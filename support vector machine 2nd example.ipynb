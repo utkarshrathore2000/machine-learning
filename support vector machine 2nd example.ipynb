{
 "cells": [
  {
   "cell_type": "code",
   "execution_count": 1,
   "metadata": {},
   "outputs": [
    {
     "data": {
      "text/html": [
       "<div>\n",
       "<style scoped>\n",
       "    .dataframe tbody tr th:only-of-type {\n",
       "        vertical-align: middle;\n",
       "    }\n",
       "\n",
       "    .dataframe tbody tr th {\n",
       "        vertical-align: top;\n",
       "    }\n",
       "\n",
       "    .dataframe thead th {\n",
       "        text-align: right;\n",
       "    }\n",
       "</style>\n",
       "<table border=\"1\" class=\"dataframe\">\n",
       "  <thead>\n",
       "    <tr style=\"text-align: right;\">\n",
       "      <th></th>\n",
       "      <th>Variance</th>\n",
       "      <th>Skewness</th>\n",
       "      <th>Curtosis</th>\n",
       "      <th>Entropy</th>\n",
       "      <th>Class</th>\n",
       "    </tr>\n",
       "  </thead>\n",
       "  <tbody>\n",
       "    <tr>\n",
       "      <th>0</th>\n",
       "      <td>3.62160</td>\n",
       "      <td>8.6661</td>\n",
       "      <td>-2.8073</td>\n",
       "      <td>-0.44699</td>\n",
       "      <td>0</td>\n",
       "    </tr>\n",
       "    <tr>\n",
       "      <th>1</th>\n",
       "      <td>4.54590</td>\n",
       "      <td>8.1674</td>\n",
       "      <td>-2.4586</td>\n",
       "      <td>-1.46210</td>\n",
       "      <td>0</td>\n",
       "    </tr>\n",
       "    <tr>\n",
       "      <th>2</th>\n",
       "      <td>3.86600</td>\n",
       "      <td>-2.6383</td>\n",
       "      <td>1.9242</td>\n",
       "      <td>0.10645</td>\n",
       "      <td>0</td>\n",
       "    </tr>\n",
       "    <tr>\n",
       "      <th>3</th>\n",
       "      <td>3.45660</td>\n",
       "      <td>9.5228</td>\n",
       "      <td>-4.0112</td>\n",
       "      <td>-3.59440</td>\n",
       "      <td>0</td>\n",
       "    </tr>\n",
       "    <tr>\n",
       "      <th>4</th>\n",
       "      <td>0.32924</td>\n",
       "      <td>-4.4552</td>\n",
       "      <td>4.5718</td>\n",
       "      <td>-0.98880</td>\n",
       "      <td>0</td>\n",
       "    </tr>\n",
       "  </tbody>\n",
       "</table>\n",
       "</div>"
      ],
      "text/plain": [
       "   Variance  Skewness  Curtosis  Entropy  Class\n",
       "0   3.62160    8.6661   -2.8073 -0.44699      0\n",
       "1   4.54590    8.1674   -2.4586 -1.46210      0\n",
       "2   3.86600   -2.6383    1.9242  0.10645      0\n",
       "3   3.45660    9.5228   -4.0112 -3.59440      0\n",
       "4   0.32924   -4.4552    4.5718 -0.98880      0"
      ]
     },
     "execution_count": 1,
     "metadata": {},
     "output_type": "execute_result"
    }
   ],
   "source": [
    "import pandas as pd\n",
    "import numpy as np\n",
    "data=pd.read_csv('bill.csv')\n",
    "d=pd.DataFrame(data)\n",
    "d.head(5)"
   ]
  },
  {
   "cell_type": "code",
   "execution_count": 15,
   "metadata": {
    "scrolled": true
   },
   "outputs": [],
   "source": [
    "x=d.iloc[:,:4].values\n",
    "y=d.iloc[:,-1].values"
   ]
  },
  {
   "cell_type": "code",
   "execution_count": 16,
   "metadata": {},
   "outputs": [
    {
     "name": "stdout",
     "output_type": "stream",
     "text": [
      "1097\n",
      "275\n"
     ]
    }
   ],
   "source": [
    "from sklearn.model_selection import train_test_split as t\n",
    "x_train,x_test,y_train,y_test=t(x,y,test_size=0.2,random_state=42)\n",
    "print(len(x_train))\n",
    "print(len(x_test))"
   ]
  },
  {
   "cell_type": "code",
   "execution_count": 17,
   "metadata": {},
   "outputs": [
    {
     "name": "stdout",
     "output_type": "stream",
     "text": [
      " the classification_report is \n",
      "              precision    recall  f1-score   support\n",
      "\n",
      "           0       0.99      0.99      0.99       148\n",
      "           1       0.98      0.98      0.98       127\n",
      "\n",
      "    accuracy                           0.99       275\n",
      "   macro avg       0.99      0.99      0.99       275\n",
      "weighted avg       0.99      0.99      0.99       275\n",
      "\n",
      "the confusion_matrix is \n",
      " [[146   2]\n",
      " [  2 125]]\n",
      "the accuracy_score is \n",
      " 0.9854545454545455\n"
     ]
    }
   ],
   "source": [
    "from sklearn.svm import SVC\n",
    "obj=SVC(kernel='linear')\n",
    "obj.fit(x_train,y_train)\n",
    "y_pred=obj.predict(x_test)\n",
    "from sklearn.metrics import classification_report as cr, confusion_matrix as cm,accuracy_score as asp\n",
    "result=cr(y_test,y_pred)\n",
    "result1=cm(y_test,y_pred)\n",
    "result2=asp(y_test,y_pred)\n",
    "print(f' the classification_report is \\n{result}') \n",
    "print(f'the confusion_matrix is \\n {result1}')\n",
    "print(f'the accuracy_score is \\n {result2}')"
   ]
  },
  {
   "cell_type": "code",
   "execution_count": 5,
   "metadata": {},
   "outputs": [
    {
     "name": "stdout",
     "output_type": "stream",
     "text": [
      " the classification_report is \n",
      "              precision    recall  f1-score   support\n",
      "\n",
      "           0       1.00      0.99      1.00       148\n",
      "           1       0.99      1.00      1.00       127\n",
      "\n",
      "    accuracy                           1.00       275\n",
      "   macro avg       1.00      1.00      1.00       275\n",
      "weighted avg       1.00      1.00      1.00       275\n",
      "\n",
      "the confusion_matrix is \n",
      " [[147   1]\n",
      " [  0 127]]\n",
      "the accuracy_score is \n",
      " 0.9963636363636363\n"
     ]
    },
    {
     "name": "stderr",
     "output_type": "stream",
     "text": [
      "c:\\users\\admin\\appdata\\local\\programs\\python\\python37-32\\lib\\site-packages\\sklearn\\svm\\base.py:193: FutureWarning: The default value of gamma will change from 'auto' to 'scale' in version 0.22 to account better for unscaled features. Set gamma explicitly to 'auto' or 'scale' to avoid this warning.\n",
      "  \"avoid this warning.\", FutureWarning)\n"
     ]
    }
   ],
   "source": [
    "obj=SVC(kernel='poly')\n",
    "obj.fit(x_train,y_train)\n",
    "y_pred=obj.predict(x_test)\n",
    "from sklearn.metrics import classification_report as cr, confusion_matrix as cm,accuracy_score as asp\n",
    "result=cr(y_test,y_pred)\n",
    "result1=cm(y_test,y_pred)\n",
    "result2=asp(y_test,y_pred)\n",
    "print(f' the classification_report is \\n{result}') \n",
    "print(f'the confusion_matrix is \\n {result1}')\n",
    "print(f'the accuracy_score is \\n {result2}')"
   ]
  },
  {
   "cell_type": "code",
   "execution_count": 6,
   "metadata": {},
   "outputs": [
    {
     "name": "stderr",
     "output_type": "stream",
     "text": [
      "c:\\users\\admin\\appdata\\local\\programs\\python\\python37-32\\lib\\site-packages\\sklearn\\svm\\base.py:193: FutureWarning: The default value of gamma will change from 'auto' to 'scale' in version 0.22 to account better for unscaled features. Set gamma explicitly to 'auto' or 'scale' to avoid this warning.\n",
      "  \"avoid this warning.\", FutureWarning)\n"
     ]
    },
    {
     "name": "stdout",
     "output_type": "stream",
     "text": [
      " the classification_report is \n",
      "              precision    recall  f1-score   support\n",
      "\n",
      "           0       1.00      1.00      1.00       148\n",
      "           1       1.00      1.00      1.00       127\n",
      "\n",
      "    accuracy                           1.00       275\n",
      "   macro avg       1.00      1.00      1.00       275\n",
      "weighted avg       1.00      1.00      1.00       275\n",
      "\n",
      "the confusion_matrix is \n",
      " [[148   0]\n",
      " [  0 127]]\n",
      "the accuracy_score is \n",
      " 1.0\n"
     ]
    }
   ],
   "source": [
    "obj=SVC(kernel='rbf')\n",
    "obj.fit(x_train,y_train)\n",
    "y_pred=obj.predict(x_test)\n",
    "from sklearn.metrics import classification_report as cr, confusion_matrix as cm,accuracy_score as asp\n",
    "result=cr(y_test,y_pred)\n",
    "result1=cm(y_test,y_pred)\n",
    "result2=asp(y_test,y_pred)\n",
    "print(f' the classification_report is \\n{result}') \n",
    "print(f'the confusion_matrix is \\n {result1}')\n",
    "print(f'the accuracy_score is \\n {result2}')"
   ]
  },
  {
   "cell_type": "code",
   "execution_count": 7,
   "metadata": {},
   "outputs": [
    {
     "name": "stderr",
     "output_type": "stream",
     "text": [
      "c:\\users\\admin\\appdata\\local\\programs\\python\\python37-32\\lib\\site-packages\\sklearn\\svm\\base.py:193: FutureWarning: The default value of gamma will change from 'auto' to 'scale' in version 0.22 to account better for unscaled features. Set gamma explicitly to 'auto' or 'scale' to avoid this warning.\n",
      "  \"avoid this warning.\", FutureWarning)\n"
     ]
    },
    {
     "name": "stdout",
     "output_type": "stream",
     "text": [
      " the classification_report is \n",
      "              precision    recall  f1-score   support\n",
      "\n",
      "           0       0.57      0.57      0.57       148\n",
      "           1       0.50      0.49      0.49       127\n",
      "\n",
      "    accuracy                           0.53       275\n",
      "   macro avg       0.53      0.53      0.53       275\n",
      "weighted avg       0.53      0.53      0.53       275\n",
      "\n",
      "the confusion_matrix is \n",
      " [[85 63]\n",
      " [65 62]]\n",
      "the accuracy_score is \n",
      " 0.5345454545454545\n"
     ]
    }
   ],
   "source": [
    "obj=SVC(kernel='sigmoid')\n",
    "obj.fit(x_train,y_train)\n",
    "y_pred=obj.predict(x_test)\n",
    "from sklearn.metrics import classification_report as cr, confusion_matrix as cm,accuracy_score as asp\n",
    "result=cr(y_test,y_pred)\n",
    "result1=cm(y_test,y_pred)\n",
    "result2=asp(y_test,y_pred)\n",
    "print(f' the classification_report is \\n{result}') \n",
    "print(f'the confusion_matrix is \\n {result1}')\n",
    "print(f'the accuracy_score is \\n {result2}')"
   ]
  },
  {
   "cell_type": "markdown",
   "metadata": {},
   "source": [
    "##second example"
   ]
  },
  {
   "cell_type": "code",
   "execution_count": 24,
   "metadata": {},
   "outputs": [
    {
     "name": "stdout",
     "output_type": "stream",
     "text": [
      "weather is \n",
      " [2 2 0 1 1 1 0 2 2 1 2 0 0 1]\n",
      "temperature is \n",
      " [1 1 1 2 0 0 0 2 0 2 2 2 1 2]\n",
      " play is \n",
      " [0 0 1 1 1 0 1 0 1 1 1 1 1 0]\n"
     ]
    }
   ],
   "source": [
    "weather=['Sunny','Sunny','Overcast','Rainy','Rainy','Rainy','Overcast','Sunny','Sunny',\n",
    "'Rainy','Sunny','Overcast','Overcast','Rainy']\n",
    "temp=['Hot','Hot','Hot','Mild','Cool','Cool','Cool','Mild','Cool','Mild','Mild','Mild','Hot','Mild']\n",
    "\n",
    "play=['No','No','Yes','Yes','Yes','No','Yes','No','Yes','Yes','Yes','Yes','Yes','No']\n",
    "from sklearn import preprocessing as p\n",
    "le=p.LabelEncoder()\n",
    "obj=le.fit_transform(weather)\n",
    "obj1=le.fit_transform(temp)\n",
    "obj2=le.fit_transform(play)\n",
    "print(f'weather is \\n {obj}')\n",
    "print(f'temperature is \\n {obj1}')\n",
    "print(f' play is \\n {obj2}')"
   ]
  },
  {
   "cell_type": "code",
   "execution_count": 30,
   "metadata": {},
   "outputs": [
    {
     "name": "stdout",
     "output_type": "stream",
     "text": [
      "142\n",
      "36\n"
     ]
    }
   ],
   "source": [
    "from sklearn import datasets\n",
    "wine=datasets.load_wine()\n",
    "from sklearn.model_selection import train_test_split as t\n",
    "x_train,x_test,y_train,y_test=t(wine.data,wine.target,test_size=0.2,random_state=42)\n",
    "print(len(x_train))\n",
    "print(len(x_test))"
   ]
  },
  {
   "cell_type": "code",
   "execution_count": 35,
   "metadata": {},
   "outputs": [
    {
     "name": "stdout",
     "output_type": "stream",
     "text": [
      "the accuracy score of naive bayes algorithm is 1.0\n"
     ]
    }
   ],
   "source": [
    "from sklearn.naive_bayes import GaussianNB as g\n",
    "obj=g()\n",
    "obj.fit(x_train,y_train)\n",
    "y_pred=obj.predict(x_test)\n",
    "from sklearn.metrics import accuracy_score as asp\n",
    "result=asp(y_test,y_pred)\n",
    "print(f'the accuracy score of naive bayes algorithm is {result}')"
   ]
  },
  {
   "cell_type": "code",
   "execution_count": null,
   "metadata": {},
   "outputs": [],
   "source": []
  }
 ],
 "metadata": {
  "kernelspec": {
   "display_name": "Python 3",
   "language": "python",
   "name": "python3"
  },
  "language_info": {
   "codemirror_mode": {
    "name": "ipython",
    "version": 3
   },
   "file_extension": ".py",
   "mimetype": "text/x-python",
   "name": "python",
   "nbconvert_exporter": "python",
   "pygments_lexer": "ipython3",
   "version": "3.7.4"
  }
 },
 "nbformat": 4,
 "nbformat_minor": 2
}
