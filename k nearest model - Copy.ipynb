{
 "cells": [
  {
   "cell_type": "code",
   "execution_count": 9,
   "metadata": {},
   "outputs": [],
   "source": [
    "import numpy as n\n",
    "import pandas as pd \n",
    "import matplotlib.pyplot as plt \n",
    "from sklearn.neighbors import KNeighborsClassifier as k \n",
    "from sklearn.model_selection import train_test_split as t\n",
    "from sklearn.preprocessing import StandardScaler as s"
   ]
  },
  {
   "cell_type": "code",
   "execution_count": 10,
   "metadata": {},
   "outputs": [
    {
     "data": {
      "text/html": [
       "<div>\n",
       "<style scoped>\n",
       "    .dataframe tbody tr th:only-of-type {\n",
       "        vertical-align: middle;\n",
       "    }\n",
       "\n",
       "    .dataframe tbody tr th {\n",
       "        vertical-align: top;\n",
       "    }\n",
       "\n",
       "    .dataframe thead th {\n",
       "        text-align: right;\n",
       "    }\n",
       "</style>\n",
       "<table border=\"1\" class=\"dataframe\">\n",
       "  <thead>\n",
       "    <tr style=\"text-align: right;\">\n",
       "      <th></th>\n",
       "      <th>sepal length in cm</th>\n",
       "      <th>sepal width in cm</th>\n",
       "      <th>petal length in cm</th>\n",
       "      <th>petal width in cm</th>\n",
       "      <th>class:</th>\n",
       "    </tr>\n",
       "  </thead>\n",
       "  <tbody>\n",
       "    <tr>\n",
       "      <th>0</th>\n",
       "      <td>5.1</td>\n",
       "      <td>3.5</td>\n",
       "      <td>1.4</td>\n",
       "      <td>0.2</td>\n",
       "      <td>Iris-setosa</td>\n",
       "    </tr>\n",
       "    <tr>\n",
       "      <th>1</th>\n",
       "      <td>4.9</td>\n",
       "      <td>3.0</td>\n",
       "      <td>1.4</td>\n",
       "      <td>0.2</td>\n",
       "      <td>Iris-setosa</td>\n",
       "    </tr>\n",
       "    <tr>\n",
       "      <th>2</th>\n",
       "      <td>4.7</td>\n",
       "      <td>3.2</td>\n",
       "      <td>1.3</td>\n",
       "      <td>0.2</td>\n",
       "      <td>Iris-setosa</td>\n",
       "    </tr>\n",
       "    <tr>\n",
       "      <th>3</th>\n",
       "      <td>4.6</td>\n",
       "      <td>3.1</td>\n",
       "      <td>1.5</td>\n",
       "      <td>0.2</td>\n",
       "      <td>Iris-setosa</td>\n",
       "    </tr>\n",
       "    <tr>\n",
       "      <th>4</th>\n",
       "      <td>5.0</td>\n",
       "      <td>3.6</td>\n",
       "      <td>1.4</td>\n",
       "      <td>0.2</td>\n",
       "      <td>Iris-setosa</td>\n",
       "    </tr>\n",
       "  </tbody>\n",
       "</table>\n",
       "</div>"
      ],
      "text/plain": [
       "   sepal length in cm    sepal width in cm      petal length in cm  \\\n",
       "0                 5.1                  3.5                     1.4   \n",
       "1                 4.9                  3.0                     1.4   \n",
       "2                 4.7                  3.2                     1.3   \n",
       "3                 4.6                  3.1                     1.5   \n",
       "4                 5.0                  3.6                     1.4   \n",
       "\n",
       "        petal width in cm       class:  \n",
       "0                     0.2  Iris-setosa  \n",
       "1                     0.2  Iris-setosa  \n",
       "2                     0.2  Iris-setosa  \n",
       "3                     0.2  Iris-setosa  \n",
       "4                     0.2  Iris-setosa  "
      ]
     },
     "execution_count": 10,
     "metadata": {},
     "output_type": "execute_result"
    }
   ],
   "source": [
    "data=pd.read_csv('iris1.csv')\n",
    "data.head(5)"
   ]
  },
  {
   "cell_type": "code",
   "execution_count": 33,
   "metadata": {},
   "outputs": [
    {
     "name": "stdout",
     "output_type": "stream",
     "text": [
      "120\n",
      "30\n"
     ]
    }
   ],
   "source": [
    "x=data.iloc[:,:4].values\n",
    "y=data.iloc[:,-1].values\n",
    "x_train,x_test,y_train,y_test=t(x,y,test_size=0.2)\n",
    "print(len(x_train))\n",
    "print(len(x_test))"
   ]
  },
  {
   "cell_type": "code",
   "execution_count": 34,
   "metadata": {},
   "outputs": [],
   "source": [
    "from sklearn.preprocessing import StandardScaler\n",
    "scaler = StandardScaler()\n",
    "scaler.fit(x_train)\n",
    "\n",
    "x_train = scaler.transform(x_train)\n",
    "x_test = scaler.transform(x_test)"
   ]
  },
  {
   "cell_type": "code",
   "execution_count": 39,
   "metadata": {},
   "outputs": [
    {
     "name": "stdout",
     "output_type": "stream",
     "text": [
      "the accuracy_score is \n",
      " 0.9333333333333333\n",
      "the classification_report is \n",
      "                 precision    recall  f1-score   support\n",
      "\n",
      "    Iris-setosa       1.00      1.00      1.00         6\n",
      "Iris-versicolor       0.94      0.94      0.94        16\n",
      " Iris-virginica       0.88      0.88      0.88         8\n",
      "\n",
      "       accuracy                           0.93        30\n",
      "      macro avg       0.94      0.94      0.94        30\n",
      "   weighted avg       0.93      0.93      0.93        30\n",
      "\n",
      "the confusion metrix  is \n",
      "[[ 6  0  0]\n",
      " [ 0 15  1]\n",
      " [ 0  1  7]]\n"
     ]
    }
   ],
   "source": [
    "obj=k(n_neighbors=3)\n",
    "obj=obj.fit(x_train,y_train)\n",
    "y_pred=obj.predict(x_test)\n",
    "from sklearn.metrics import classification_report as cr ,confusion_matrix as cm ,accuracy_score as a\n",
    "result=asp(y_pred,y_test)\n",
    "print(f'the accuracy_score is \\n {result}')\n",
    "result1=cr(y_test,y_pred)\n",
    "print(f'the classification_report is \\n{result1}')\n",
    "result2=cm(y_test,y_pred)\n",
    "print(f'the confusion metrix  is \\n{result2}')      "
   ]
  },
  {
   "cell_type": "code",
   "execution_count": 40,
   "metadata": {},
   "outputs": [
    {
     "data": {
      "text/html": [
       "<div>\n",
       "<style scoped>\n",
       "    .dataframe tbody tr th:only-of-type {\n",
       "        vertical-align: middle;\n",
       "    }\n",
       "\n",
       "    .dataframe tbody tr th {\n",
       "        vertical-align: top;\n",
       "    }\n",
       "\n",
       "    .dataframe thead th {\n",
       "        text-align: right;\n",
       "    }\n",
       "</style>\n",
       "<table border=\"1\" class=\"dataframe\">\n",
       "  <thead>\n",
       "    <tr style=\"text-align: right;\">\n",
       "      <th></th>\n",
       "      <th>A</th>\n",
       "      <th>B</th>\n",
       "      <th>C</th>\n",
       "      <th>D</th>\n",
       "      <th>E</th>\n",
       "      <th>F</th>\n",
       "      <th>G</th>\n",
       "      <th>H</th>\n",
       "      <th>I</th>\n",
       "      <th>J</th>\n",
       "      <th>K</th>\n",
       "      <th>L</th>\n",
       "      <th>M</th>\n",
       "      <th>N</th>\n",
       "    </tr>\n",
       "  </thead>\n",
       "  <tbody>\n",
       "    <tr>\n",
       "      <th>0</th>\n",
       "      <td>1</td>\n",
       "      <td>14.23</td>\n",
       "      <td>1.71</td>\n",
       "      <td>2.43</td>\n",
       "      <td>15.6</td>\n",
       "      <td>127</td>\n",
       "      <td>2.80</td>\n",
       "      <td>3.06</td>\n",
       "      <td>0.28</td>\n",
       "      <td>2.29</td>\n",
       "      <td>5.64</td>\n",
       "      <td>1.04</td>\n",
       "      <td>3.92</td>\n",
       "      <td>1065</td>\n",
       "    </tr>\n",
       "    <tr>\n",
       "      <th>1</th>\n",
       "      <td>1</td>\n",
       "      <td>13.20</td>\n",
       "      <td>1.78</td>\n",
       "      <td>2.14</td>\n",
       "      <td>11.2</td>\n",
       "      <td>100</td>\n",
       "      <td>2.65</td>\n",
       "      <td>2.76</td>\n",
       "      <td>0.26</td>\n",
       "      <td>1.28</td>\n",
       "      <td>4.38</td>\n",
       "      <td>1.05</td>\n",
       "      <td>3.40</td>\n",
       "      <td>1050</td>\n",
       "    </tr>\n",
       "    <tr>\n",
       "      <th>2</th>\n",
       "      <td>1</td>\n",
       "      <td>13.16</td>\n",
       "      <td>2.36</td>\n",
       "      <td>2.67</td>\n",
       "      <td>18.6</td>\n",
       "      <td>101</td>\n",
       "      <td>2.80</td>\n",
       "      <td>3.24</td>\n",
       "      <td>0.30</td>\n",
       "      <td>2.81</td>\n",
       "      <td>5.68</td>\n",
       "      <td>1.03</td>\n",
       "      <td>3.17</td>\n",
       "      <td>1185</td>\n",
       "    </tr>\n",
       "    <tr>\n",
       "      <th>3</th>\n",
       "      <td>1</td>\n",
       "      <td>14.37</td>\n",
       "      <td>1.95</td>\n",
       "      <td>2.50</td>\n",
       "      <td>16.8</td>\n",
       "      <td>113</td>\n",
       "      <td>3.85</td>\n",
       "      <td>3.49</td>\n",
       "      <td>0.24</td>\n",
       "      <td>2.18</td>\n",
       "      <td>7.80</td>\n",
       "      <td>0.86</td>\n",
       "      <td>3.45</td>\n",
       "      <td>1480</td>\n",
       "    </tr>\n",
       "  </tbody>\n",
       "</table>\n",
       "</div>"
      ],
      "text/plain": [
       "   A      B     C     D     E    F     G     H     I     J     K     L     M  \\\n",
       "0  1  14.23  1.71  2.43  15.6  127  2.80  3.06  0.28  2.29  5.64  1.04  3.92   \n",
       "1  1  13.20  1.78  2.14  11.2  100  2.65  2.76  0.26  1.28  4.38  1.05  3.40   \n",
       "2  1  13.16  2.36  2.67  18.6  101  2.80  3.24  0.30  2.81  5.68  1.03  3.17   \n",
       "3  1  14.37  1.95  2.50  16.8  113  3.85  3.49  0.24  2.18  7.80  0.86  3.45   \n",
       "\n",
       "      N  \n",
       "0  1065  \n",
       "1  1050  \n",
       "2  1185  \n",
       "3  1480  "
      ]
     },
     "execution_count": 40,
     "metadata": {},
     "output_type": "execute_result"
    }
   ],
   "source": [
    "data1=pd.read_csv('wine.CSV')\n",
    "data1.head(4)"
   ]
  },
  {
   "cell_type": "code",
   "execution_count": 42,
   "metadata": {},
   "outputs": [
    {
     "name": "stdout",
     "output_type": "stream",
     "text": [
      "142\n",
      "36\n"
     ]
    }
   ],
   "source": [
    "x=data1.iloc[:,:13].values\n",
    "y=data1.iloc[:,-1].values\n",
    "x_train,x_test,y_train,y_test=t(x,y,test_size=0.2)\n",
    "print(len(x_train))\n",
    "print(len(x_test))"
   ]
  },
  {
   "cell_type": "code",
   "execution_count": 44,
   "metadata": {},
   "outputs": [
    {
     "name": "stdout",
     "output_type": "stream",
     "text": [
      "the accuracy_score is \n",
      " 0.0\n",
      "the classification_report  is \n",
      "               precision    recall  f1-score   support\n",
      "\n",
      "         342       0.00      0.00      0.00       1.0\n",
      "         352       0.00      0.00      0.00       1.0\n",
      "         372       0.00      0.00      0.00       1.0\n",
      "         380       0.00      0.00      0.00       1.0\n",
      "         415       0.00      0.00      0.00       1.0\n",
      "         434       0.00      0.00      0.00       1.0\n",
      "         466       0.00      0.00      0.00       1.0\n",
      "         470       0.00      0.00      0.00       1.0\n",
      "         500       0.00      0.00      0.00       0.0\n",
      "         510       0.00      0.00      0.00       1.0\n",
      "         515       0.00      0.00      0.00       1.0\n",
      "         560       0.00      0.00      0.00       1.0\n",
      "         564       0.00      0.00      0.00       1.0\n",
      "         600       0.00      0.00      0.00       1.0\n",
      "         620       0.00      0.00      0.00       1.0\n",
      "         625       0.00      0.00      0.00       0.0\n",
      "         640       0.00      0.00      0.00       1.0\n",
      "         672       0.00      0.00      0.00       1.0\n",
      "         675       0.00      0.00      0.00       1.0\n",
      "         680       0.00      0.00      0.00       2.0\n",
      "         714       0.00      0.00      0.00       1.0\n",
      "         718       0.00      0.00      0.00       0.0\n",
      "         735       0.00      0.00      0.00       1.0\n",
      "         750       0.00      0.00      0.00       1.0\n",
      "         840       0.00      0.00      0.00       1.0\n",
      "         880       0.00      0.00      0.00       1.0\n",
      "         885       0.00      0.00      0.00       1.0\n",
      "        1035       0.00      0.00      0.00       1.0\n",
      "        1080       0.00      0.00      0.00       1.0\n",
      "        1095       0.00      0.00      0.00       1.0\n",
      "        1105       0.00      0.00      0.00       1.0\n",
      "        1120       0.00      0.00      0.00       1.0\n",
      "        1150       0.00      0.00      0.00       1.0\n",
      "        1285       0.00      0.00      0.00       1.0\n",
      "        1310       0.00      0.00      0.00       1.0\n",
      "        1375       0.00      0.00      0.00       1.0\n",
      "        1480       0.00      0.00      0.00       1.0\n",
      "        1680       0.00      0.00      0.00       1.0\n",
      "\n",
      "    accuracy                           0.00      36.0\n",
      "   macro avg       0.00      0.00      0.00      36.0\n",
      "weighted avg       0.00      0.00      0.00      36.0\n",
      "\n",
      "the confusion metrics  is \n",
      " [[0 0 0 ... 0 0 0]\n",
      " [0 0 0 ... 0 0 0]\n",
      " [0 0 0 ... 0 0 0]\n",
      " ...\n",
      " [0 0 0 ... 0 0 0]\n",
      " [0 0 0 ... 0 0 0]\n",
      " [0 0 0 ... 0 0 0]]\n"
     ]
    },
    {
     "name": "stderr",
     "output_type": "stream",
     "text": [
      "c:\\users\\admin\\appdata\\local\\programs\\python\\python37-32\\lib\\site-packages\\sklearn\\metrics\\classification.py:1437: UndefinedMetricWarning: Precision and F-score are ill-defined and being set to 0.0 in labels with no predicted samples.\n",
      "  'precision', 'predicted', average, warn_for)\n",
      "c:\\users\\admin\\appdata\\local\\programs\\python\\python37-32\\lib\\site-packages\\sklearn\\metrics\\classification.py:1439: UndefinedMetricWarning: Recall and F-score are ill-defined and being set to 0.0 in labels with no true samples.\n",
      "  'recall', 'true', average, warn_for)\n"
     ]
    }
   ],
   "source": [
    "obj1=s()\n",
    "obj1.fit(x_train)\n",
    "x_train=obj1.transform(x_train)\n",
    "x_test=obj1.transform(x_test)\n",
    "obb=k(n_neighbors=5)\n",
    "obb=obb.fit(x_train,y_train)\n",
    "y_pred=obb.predict(x_test)\n",
    "result1=asp(y_test,y_pred)\n",
    "print(f'the accuracy_score is \\n {result1}')\n",
    "result2=cr(y_test,y_pred)\n",
    "print(f'the classification_report  is \\n {result2}')\n",
    "result3=cm(y_test,y_pred)\n",
    "print(f'the confusion metrics  is \\n {result3}')\n"
   ]
  },
  {
   "cell_type": "code",
   "execution_count": null,
   "metadata": {},
   "outputs": [],
   "source": [
    "\n"
   ]
  }
 ],
 "metadata": {
  "kernelspec": {
   "display_name": "Python 3",
   "language": "python",
   "name": "python3"
  },
  "language_info": {
   "codemirror_mode": {
    "name": "ipython",
    "version": 3
   },
   "file_extension": ".py",
   "mimetype": "text/x-python",
   "name": "python",
   "nbconvert_exporter": "python",
   "pygments_lexer": "ipython3",
   "version": "3.7.4"
  }
 },
 "nbformat": 4,
 "nbformat_minor": 2
}
